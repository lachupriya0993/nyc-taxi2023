{
 "cells": [
  {
   "cell_type": "markdown",
   "id": "625e127f",
   "metadata": {},
   "source": [
    "# POST GRADUATE PROGRAM IN DATA SCIENCE AND ENGINEERING JANUARY 2023 - ONLINE"
   ]
  },
  {
   "cell_type": "markdown",
   "id": "71545767",
   "metadata": {},
   "source": [
    "# Domain : Predictive Analytics in the field of Transportation/ Urban Mobility"
   ]
  },
  {
   "cell_type": "markdown",
   "id": "59a16768",
   "metadata": {},
   "source": [
    "# GROUP 8 : Analysis on Yellow Taxis and Congessions in the Newyork City"
   ]
  },
  {
   "cell_type": "markdown",
   "id": "45f0c006",
   "metadata": {},
   "source": [
    "<b>Presented by:</b>\n",
    "* Keren Melinda V</br>\n",
    "* Lakshmi Priya</br>\n",
    "* Liviya Sekar</br>\n",
    "* Ritartha Chakraborty</br>\n",
    "* Sriram S</br> \n",
    "\n",
    "<b>Led by Sriram S</b></br>\n",
    "<b>Mentored by Mohit Sahu</b></br>"
   ]
  },
  {
   "cell_type": "markdown",
   "id": "66105c2b",
   "metadata": {},
   "source": [
    "<b>Problem Statement</b></br>\n",
    "\n",
    "One of the major issues faced by the population of New York is the traffic congestion in the city during the rush hours which in week days falls between 07-10 hrs and 16-20hrs. The rush hours in weekends will vary based on major events happening in the city such concerts, major sporting events etc. As per the tom tom traffic index, due to the congestion average ride hour exceeds by approx. 12-17 minutes. This is a major problem which needs attention and right intervention."
   ]
  },
  {
   "cell_type": "markdown",
   "id": "4617f23d",
   "metadata": {},
   "source": [
    "<b>Data Collection</b></br>\n",
    "The data is extracted from the Newyork Taxi & Limousine Commission website - https://www.nyc.gov/site/tlc/index.page. The data contains 32,88,250 rows and 19 columns including vendorID, ratecodeID, payment type, passenger count, pickup datetime, dropoff datetime, and fare details etc., which were collected for the month of April 2023. The additional data which consists of borough, zone and service zone details of new york city."
   ]
  },
  {
   "cell_type": "markdown",
   "id": "bf93778d",
   "metadata": {},
   "source": [
    "<b>Data Description</b></br>\n",
    "<i><b>VendorID</i></b> - A code indicating the TPEP provider that provided the record. (1= Creative Mobile Technologies, LLC; 2= VeriFone Inc.)</br>\n",
    "<i><b>tpep_pickup_datetime</i></b> - The date and time when the meter was engaged.</br>\n",
    "<i><b>tpep_dropoff_datetime</i></b> - The date and time when the meter was disengaged.</br> \n",
    "<i><b>Passenger_count</i></b> - The number of passengers in the vehicle. This is a driver-entered value.</br>\n",
    "<i><b>Trip_distance</i></b> - The elapsed trip distance in miles reported by the taximeter.</br>\n",
    "<i><b>PULocationID</i></b> - TLC Taxi Zone in which the taximeter was engaged.</br>\n",
    "<i><b>DOLocationID</i></b> - TLC Taxi Zone in which the taximeter was disengaged.</br>\n",
    "<i><b>RateCodeID</i></b> - The final rate code in effect at the end of the trip. (1= Standard rate, 2=JFK, 3=Newark, 4=Nassau or Westchester, 5=Negotiated fare, 6=Group ride)</br>\n",
    "<i><b>Store_and_fwd_flag</i></b> - This flag indicates whether the trip record was held in vehicle memory before sending to the vendor, aka “store and forward,” because the vehicle did not have a connection to the server.(Y= store and forward trip, N= not a store and forward trip)</br>\n",
    "<i><b>Payment_type</i></b> - A numeric code signifying how the passenger paid for the trip. (1= Credit card, 2= Cash, 3= No charge, 4= Dispute, 5= Unknown, 6= Voided trip)</br>\n",
    "<i><b>Fare_amount</i></b> - The time-and-distance fare calculated by the meter.</br>\n",
    "<i><b>Extra</i></b> - Miscellaneous extras and surcharges. Currently, this only includes the $0.50 and $1 rush hour and vernight charges.</br>\n",
    "<i><b>MTA_tax</i></b> - \\\\$0.50 MTA tax that is automatically triggered based on the metered rate in use. </br>\n",
    "<i><b>Improvement_surcharge</i></b> - \\\\$0.30 improvement surcharge assessed trips at the flag drop. The improvement surcharge began being levied in 2015.</br>\n",
    "<i><b>Tip_amount</i></b> - This field is automatically populated for credit card tips. Cash tips are not included.</br>\n",
    "<i><b>Tolls_amount</i></b> - Total amount of all tolls paid in trip.</br>\n",
    "<i><b>Total_amount</i></b> - The total amount charged to passengers. Does not include cash tips.</br>\n",
    "<i><b>Congestion_Surcharge</i></b> - Total amount collected in trip for NYS congestion surcharge. </br>\n",
    "<i><b>Airport_fee</i></b> - $1.25 for pick up only at LaGuardia and John F. Kennedy Airports.</br>"
   ]
  },
  {
   "cell_type": "markdown",
   "id": "b6eb17c2",
   "metadata": {},
   "source": [
    "<b>Data Exploration</b>"
   ]
  },
  {
   "cell_type": "code",
   "execution_count": 2,
   "id": "c0b4c8ef",
   "metadata": {},
   "outputs": [],
   "source": [
    "# import necessary libraries\n",
    "import numpy as np\n",
    "import pandas as pd\n",
    "import matplotlib.pyplot as plt\n",
    "%matplotlib inline\n",
    "import seaborn as sns\n",
    "\n",
    "import warnings\n",
    "warnings.filterwarnings('ignore')\n",
    "\n",
    "pd.options.display.max_columns = None\n",
    "\n",
    "from scipy import stats"
   ]
  },
  {
   "cell_type": "markdown",
   "id": "24833205",
   "metadata": {},
   "source": [
    "<b>Importing the raw data</b>"
   ]
  },
  {
   "cell_type": "code",
   "execution_count": 3,
   "id": "1dae7d25",
   "metadata": {},
   "outputs": [],
   "source": [
    "# importing parquet file of APR 2023 yellow taxi dataset\n",
    "# Since raw data is in parquet format installing pyarrow for data conversion and high efficiency\n",
    "\n",
    "# !{sys.executable} -m pip install pyarrow \n",
    "#parquet_file = 'yellow_tripdata_2023-04.parquet'\n",
    "#df = pd.read_parquet(parquet_file) # reading the parquet file\n",
    "\n",
    "# Specify the output CSV file name\n",
    "#csv_output = 'yellow_taxi_cab.csv'\n",
    "\n",
    "# Save the DataFrame to the CSV file using tab as the separator and excluding the index column\n",
    "#df.to_csv(csv_output, index=False, sep='\\t')\n",
    "\n",
    "#df.head() #  display the firt five rows"
   ]
  },
  {
   "cell_type": "code",
   "execution_count": 5,
   "id": "1858875a",
   "metadata": {},
   "outputs": [],
   "source": [
    "# Reading the Raw dataset\n",
    "df = pd.read_csv('yellow_taxi_cab.csv', sep='\\t')"
   ]
  },
  {
   "cell_type": "markdown",
   "id": "e64fdead",
   "metadata": {},
   "source": [
    "<b>Importing additional data to support the analysis</b>"
   ]
  },
  {
   "cell_type": "code",
   "execution_count": 6,
   "id": "81d5d374",
   "metadata": {},
   "outputs": [],
   "source": [
    "# to merge lookup location ids\n",
    "locations= pd.read_csv('taxi+_zone_lookup.csv') # importing additional data\n",
    "\n",
    "df = df.merge(locations,how='left',left_on='PULocationID',right_on='LocationID')\n",
    "df = df.rename(columns={'Borough':'PU_Borough','Zone':'PU_Zone','service_zone':'PU_service_zone'})\n",
    "df.drop(columns='LocationID',inplace = True)\n",
    "df = df.merge(locations,how='left',left_on='DOLocationID',right_on='LocationID')\n",
    "df = df.rename(columns={'Borough':'DO_Borough','Zone':'DO_Zone','service_zone':'DO_service_zone'})\n",
    "df.drop(columns='LocationID',inplace = True)"
   ]
  },
  {
   "cell_type": "code",
   "execution_count": 7,
   "id": "c90b92b3",
   "metadata": {},
   "outputs": [
    {
     "data": {
      "text/plain": [
       "(3288250, 25)"
      ]
     },
     "execution_count": 7,
     "metadata": {},
     "output_type": "execute_result"
    }
   ],
   "source": [
    "# shape of raw data\n",
    "df.shape"
   ]
  },
  {
   "cell_type": "markdown",
   "id": "e969c963",
   "metadata": {},
   "source": [
    "The dataset contains 32,88,250 rows and 25 columns."
   ]
  },
  {
   "cell_type": "code",
   "execution_count": 10,
   "id": "7de00484",
   "metadata": {},
   "outputs": [
    {
     "data": {
      "text/html": [
       "<div>\n",
       "<style scoped>\n",
       "    .dataframe tbody tr th:only-of-type {\n",
       "        vertical-align: middle;\n",
       "    }\n",
       "\n",
       "    .dataframe tbody tr th {\n",
       "        vertical-align: top;\n",
       "    }\n",
       "\n",
       "    .dataframe thead th {\n",
       "        text-align: right;\n",
       "    }\n",
       "</style>\n",
       "<table border=\"1\" class=\"dataframe\">\n",
       "  <thead>\n",
       "    <tr style=\"text-align: right;\">\n",
       "      <th></th>\n",
       "      <th>count</th>\n",
       "      <th>percent</th>\n",
       "    </tr>\n",
       "  </thead>\n",
       "  <tbody>\n",
       "    <tr>\n",
       "      <th>VendorID</th>\n",
       "      <td>0</td>\n",
       "      <td>0.000000</td>\n",
       "    </tr>\n",
       "    <tr>\n",
       "      <th>tpep_pickup_datetime</th>\n",
       "      <td>0</td>\n",
       "      <td>0.000000</td>\n",
       "    </tr>\n",
       "    <tr>\n",
       "      <th>tpep_dropoff_datetime</th>\n",
       "      <td>0</td>\n",
       "      <td>0.000000</td>\n",
       "    </tr>\n",
       "    <tr>\n",
       "      <th>passenger_count</th>\n",
       "      <td>90690</td>\n",
       "      <td>2.758002</td>\n",
       "    </tr>\n",
       "    <tr>\n",
       "      <th>trip_distance</th>\n",
       "      <td>0</td>\n",
       "      <td>0.000000</td>\n",
       "    </tr>\n",
       "    <tr>\n",
       "      <th>RatecodeID</th>\n",
       "      <td>90690</td>\n",
       "      <td>2.758002</td>\n",
       "    </tr>\n",
       "    <tr>\n",
       "      <th>store_and_fwd_flag</th>\n",
       "      <td>90690</td>\n",
       "      <td>2.758002</td>\n",
       "    </tr>\n",
       "    <tr>\n",
       "      <th>PULocationID</th>\n",
       "      <td>0</td>\n",
       "      <td>0.000000</td>\n",
       "    </tr>\n",
       "    <tr>\n",
       "      <th>DOLocationID</th>\n",
       "      <td>0</td>\n",
       "      <td>0.000000</td>\n",
       "    </tr>\n",
       "    <tr>\n",
       "      <th>payment_type</th>\n",
       "      <td>0</td>\n",
       "      <td>0.000000</td>\n",
       "    </tr>\n",
       "    <tr>\n",
       "      <th>fare_amount</th>\n",
       "      <td>0</td>\n",
       "      <td>0.000000</td>\n",
       "    </tr>\n",
       "    <tr>\n",
       "      <th>extra</th>\n",
       "      <td>0</td>\n",
       "      <td>0.000000</td>\n",
       "    </tr>\n",
       "    <tr>\n",
       "      <th>mta_tax</th>\n",
       "      <td>0</td>\n",
       "      <td>0.000000</td>\n",
       "    </tr>\n",
       "    <tr>\n",
       "      <th>tip_amount</th>\n",
       "      <td>0</td>\n",
       "      <td>0.000000</td>\n",
       "    </tr>\n",
       "    <tr>\n",
       "      <th>tolls_amount</th>\n",
       "      <td>0</td>\n",
       "      <td>0.000000</td>\n",
       "    </tr>\n",
       "    <tr>\n",
       "      <th>improvement_surcharge</th>\n",
       "      <td>0</td>\n",
       "      <td>0.000000</td>\n",
       "    </tr>\n",
       "    <tr>\n",
       "      <th>total_amount</th>\n",
       "      <td>0</td>\n",
       "      <td>0.000000</td>\n",
       "    </tr>\n",
       "    <tr>\n",
       "      <th>congestion_surcharge</th>\n",
       "      <td>90690</td>\n",
       "      <td>2.758002</td>\n",
       "    </tr>\n",
       "    <tr>\n",
       "      <th>Airport_fee</th>\n",
       "      <td>90690</td>\n",
       "      <td>2.758002</td>\n",
       "    </tr>\n",
       "    <tr>\n",
       "      <th>PU_Borough</th>\n",
       "      <td>0</td>\n",
       "      <td>0.000000</td>\n",
       "    </tr>\n",
       "    <tr>\n",
       "      <th>PU_Zone</th>\n",
       "      <td>2160</td>\n",
       "      <td>0.065688</td>\n",
       "    </tr>\n",
       "    <tr>\n",
       "      <th>PU_service_zone</th>\n",
       "      <td>36145</td>\n",
       "      <td>1.099217</td>\n",
       "    </tr>\n",
       "    <tr>\n",
       "      <th>DO_Borough</th>\n",
       "      <td>0</td>\n",
       "      <td>0.000000</td>\n",
       "    </tr>\n",
       "    <tr>\n",
       "      <th>DO_Zone</th>\n",
       "      <td>13082</td>\n",
       "      <td>0.397841</td>\n",
       "    </tr>\n",
       "    <tr>\n",
       "      <th>DO_service_zone</th>\n",
       "      <td>51612</td>\n",
       "      <td>1.569589</td>\n",
       "    </tr>\n",
       "  </tbody>\n",
       "</table>\n",
       "</div>"
      ],
      "text/plain": [
       "                       count   percent\n",
       "VendorID                   0  0.000000\n",
       "tpep_pickup_datetime       0  0.000000\n",
       "tpep_dropoff_datetime      0  0.000000\n",
       "passenger_count        90690  2.758002\n",
       "trip_distance              0  0.000000\n",
       "RatecodeID             90690  2.758002\n",
       "store_and_fwd_flag     90690  2.758002\n",
       "PULocationID               0  0.000000\n",
       "DOLocationID               0  0.000000\n",
       "payment_type               0  0.000000\n",
       "fare_amount                0  0.000000\n",
       "extra                      0  0.000000\n",
       "mta_tax                    0  0.000000\n",
       "tip_amount                 0  0.000000\n",
       "tolls_amount               0  0.000000\n",
       "improvement_surcharge      0  0.000000\n",
       "total_amount               0  0.000000\n",
       "congestion_surcharge   90690  2.758002\n",
       "Airport_fee            90690  2.758002\n",
       "PU_Borough                 0  0.000000\n",
       "PU_Zone                 2160  0.065688\n",
       "PU_service_zone        36145  1.099217\n",
       "DO_Borough                 0  0.000000\n",
       "DO_Zone                13082  0.397841\n",
       "DO_service_zone        51612  1.569589"
      ]
     },
     "execution_count": 10,
     "metadata": {},
     "output_type": "execute_result"
    }
   ],
   "source": [
    "# checking for missing/null values\n",
    "count = df.isna().sum() \n",
    "percent = count/len(df)*100\n",
    "\n",
    "missing_df = pd.concat((count, percent), axis = 1, keys = ['count', 'percent'])\n",
    "\n",
    "missing_df"
   ]
  },
  {
   "cell_type": "code",
   "execution_count": 12,
   "id": "cb658e10",
   "metadata": {},
   "outputs": [
    {
     "data": {
      "text/plain": [
       "VendorID                   int64\n",
       "tpep_pickup_datetime      object\n",
       "tpep_dropoff_datetime     object\n",
       "passenger_count          float64\n",
       "trip_distance            float64\n",
       "RatecodeID               float64\n",
       "store_and_fwd_flag        object\n",
       "PULocationID               int64\n",
       "DOLocationID               int64\n",
       "payment_type               int64\n",
       "fare_amount              float64\n",
       "extra                    float64\n",
       "mta_tax                  float64\n",
       "tip_amount               float64\n",
       "tolls_amount             float64\n",
       "improvement_surcharge    float64\n",
       "total_amount             float64\n",
       "congestion_surcharge     float64\n",
       "Airport_fee              float64\n",
       "PU_Borough                object\n",
       "PU_Zone                   object\n",
       "PU_service_zone           object\n",
       "DO_Borough                object\n",
       "DO_Zone                   object\n",
       "DO_service_zone           object\n",
       "dtype: object"
      ]
     },
     "execution_count": 12,
     "metadata": {},
     "output_type": "execute_result"
    }
   ],
   "source": [
    "# checking datatype of the columns\n",
    "df.dtypes"
   ]
  },
  {
   "cell_type": "markdown",
   "id": "c608bebb",
   "metadata": {},
   "source": [
    "<b>Data Cleaning</b>"
   ]
  },
  {
   "cell_type": "markdown",
   "id": "91b872ac",
   "metadata": {},
   "source": [
    "<b>Dropping missing values</b>"
   ]
  },
  {
   "cell_type": "code",
   "execution_count": 16,
   "id": "c57b95d9",
   "metadata": {},
   "outputs": [],
   "source": [
    "# DROPPING THE NULL VALUES\n",
    "df = df.dropna()"
   ]
  },
  {
   "cell_type": "code",
   "execution_count": 17,
   "id": "a6264689",
   "metadata": {},
   "outputs": [
    {
     "data": {
      "text/plain": [
       "(3143655, 25)"
      ]
     },
     "execution_count": 17,
     "metadata": {},
     "output_type": "execute_result"
    }
   ],
   "source": [
    "# df shape after removing null values\n",
    "df.shape"
   ]
  },
  {
   "cell_type": "markdown",
   "id": "7a26edb5",
   "metadata": {},
   "source": [
    "1,44,595 rows which contained null values were removed from the dataframe."
   ]
  },
  {
   "cell_type": "markdown",
   "id": "151f0c99",
   "metadata": {},
   "source": [
    "<b>Datatype Conversion</b>"
   ]
  },
  {
   "cell_type": "code",
   "execution_count": 13,
   "id": "2505414d",
   "metadata": {},
   "outputs": [],
   "source": [
    "# date time dtype conversion\n",
    "df['tpep_pickup_datetime'] = pd.to_datetime(df['tpep_pickup_datetime'])\n",
    "df['tpep_dropoff_datetime'] = pd.to_datetime(df['tpep_dropoff_datetime'])"
   ]
  },
  {
   "cell_type": "code",
   "execution_count": 18,
   "id": "ec3501e8",
   "metadata": {},
   "outputs": [],
   "source": [
    "# Dtype conversion\n",
    "df['VendorID']=df['VendorID'].astype(object)\n",
    "df['passenger_count']=df['passenger_count'].astype(int)\n",
    "df['RatecodeID']=df['RatecodeID'].astype(object)\n",
    "df['payment_type']=df['payment_type'].astype(object)"
   ]
  },
  {
   "cell_type": "code",
   "execution_count": 19,
   "id": "7979f941",
   "metadata": {},
   "outputs": [
    {
     "data": {
      "text/plain": [
       "VendorID                         object\n",
       "tpep_pickup_datetime     datetime64[ns]\n",
       "tpep_dropoff_datetime    datetime64[ns]\n",
       "passenger_count                   int32\n",
       "trip_distance                   float64\n",
       "RatecodeID                       object\n",
       "store_and_fwd_flag               object\n",
       "PULocationID                      int64\n",
       "DOLocationID                      int64\n",
       "payment_type                     object\n",
       "fare_amount                     float64\n",
       "extra                           float64\n",
       "mta_tax                         float64\n",
       "tip_amount                      float64\n",
       "tolls_amount                    float64\n",
       "improvement_surcharge           float64\n",
       "total_amount                    float64\n",
       "congestion_surcharge            float64\n",
       "Airport_fee                     float64\n",
       "PU_Borough                       object\n",
       "PU_Zone                          object\n",
       "PU_service_zone                  object\n",
       "DO_Borough                       object\n",
       "DO_Zone                          object\n",
       "DO_service_zone                  object\n",
       "dtype: object"
      ]
     },
     "execution_count": 19,
     "metadata": {},
     "output_type": "execute_result"
    }
   ],
   "source": [
    "# checking datatype of the columns after dtype conversion\n",
    "df.dtypes"
   ]
  },
  {
   "cell_type": "markdown",
   "id": "1d305059",
   "metadata": {},
   "source": [
    "<b>Data Filtration</b></br>\n",
    "Filter the data corresponding to weekday rush hours."
   ]
  },
  {
   "cell_type": "code",
   "execution_count": 20,
   "id": "1be5c8fa",
   "metadata": {},
   "outputs": [],
   "source": [
    "# Filtering the first fortnight\n",
    "df = df[(df['tpep_pickup_datetime'].dt.day <= 14) & (df['tpep_dropoff_datetime'].dt.day <= 14)]"
   ]
  },
  {
   "cell_type": "code",
   "execution_count": 21,
   "id": "d534197c",
   "metadata": {},
   "outputs": [],
   "source": [
    "# Filtering only the rush hours \n",
    "df= df[df['tpep_pickup_datetime'].dt.hour.between(7,9) | df['tpep_pickup_datetime'].dt.hour.between(16,19)]"
   ]
  },
  {
   "cell_type": "code",
   "execution_count": 22,
   "id": "3423bc91",
   "metadata": {},
   "outputs": [],
   "source": [
    "# Removing the weekends from dataframe\n",
    "dates= [1,2,8,9,15,16]\n",
    "df= (df[(~df['tpep_pickup_datetime'].dt.day.isin(dates))  & (~df['tpep_dropoff_datetime'].dt.day.isin(dates))])"
   ]
  },
  {
   "cell_type": "code",
   "execution_count": 23,
   "id": "428e147b",
   "metadata": {},
   "outputs": [],
   "source": [
    "# Removing the May month rows\n",
    "df = df[(df['tpep_pickup_datetime'].dt.month == 4) & (df['tpep_dropoff_datetime'].dt.month == 4)]"
   ]
  },
  {
   "cell_type": "code",
   "execution_count": 24,
   "id": "d8f1b31d",
   "metadata": {},
   "outputs": [
    {
     "data": {
      "text/plain": [
       "(404642, 25)"
      ]
     },
     "execution_count": 24,
     "metadata": {},
     "output_type": "execute_result"
    }
   ],
   "source": [
    "# shape after data filtration\n",
    "df.shape"
   ]
  },
  {
   "cell_type": "markdown",
   "id": "297e6c50",
   "metadata": {},
   "source": [
    "<b>Feature Extraction</b></br>\n",
    "Creating seven new features such as trip_duration_secs, pickup_date, dropoff_date, pickup_hour, drop_hour, pickup_day, dropoff_day."
   ]
  },
  {
   "cell_type": "code",
   "execution_count": 25,
   "id": "fe3fabad",
   "metadata": {},
   "outputs": [],
   "source": [
    "# extracting trip duration in seconds\n",
    "df['trip_duration_secs'] = (df['tpep_dropoff_datetime'] - df['tpep_pickup_datetime']).dt.total_seconds()\n",
    "\n",
    "# extracting pickup date\n",
    "df['pickup_date'] = df['tpep_pickup_datetime'].dt.date  \n",
    "\n",
    "# extracting dropoff date\n",
    "df['dropoff_date'] = df['tpep_dropoff_datetime'].dt.date  \n",
    "\n",
    "# extracting pickup hour\n",
    "df['pickup_hour']=df['tpep_pickup_datetime'].dt.hour \n",
    "\n",
    "# extracting drop off hour\n",
    "df['drop_hour']=df['tpep_dropoff_datetime'].dt.hour  \n",
    "\n",
    "# extracting pickup day\n",
    "df['pickup_day']=df['tpep_pickup_datetime'].dt.day_name() \n",
    "\n",
    "# extracting drop off day\n",
    "df['dropoff_day']=df['tpep_dropoff_datetime'].dt.day_name() "
   ]
  },
  {
   "cell_type": "markdown",
   "id": "f92877fe",
   "metadata": {},
   "source": [
    "<b>Data Preprocessing</b>"
   ]
  },
  {
   "cell_type": "code",
   "execution_count": 45,
   "id": "7b55b57e",
   "metadata": {},
   "outputs": [],
   "source": [
    "# dropping 63 rows which has 0 total amount\n",
    "df = df[df['total_amount'] != 0] \n",
    "\n",
    "# dropping 3361 rows which has negative total amount\n",
    "df = df[df['total_amount'] > 0] \n",
    "\n",
    "# dropping 7593 rows which has 0 passenger count\n",
    "df = df[df['passenger_count'] != 0] \n",
    "\n",
    "# dropping 2731 rows which has incorrect ratecodeID (99)\n",
    "df = df[df['RatecodeID'] != 99] \n",
    "\n",
    "# dropping 3893 rows which has 0 trip distance\n",
    "df = df[df['trip_distance'] != 0] \n",
    "\n",
    "# dropping 3501 rows which has fare amount less than 3\n",
    "df = df[df['fare_amount'] >= 3] \n",
    "\n",
    "# dropping 238 rows which has 0 improvement surcharge\n",
    "df = df[df['improvement_surcharge'] != 0] \n",
    "\n",
    "# dropping the unknown locations Id rows\n",
    "df = df[~((df['PULocationID'].isin([264,265])) | (df['DOLocationID'].isin([264,265])))]\n",
    "\n",
    "# passge count 8 anomaly is removed\n",
    "df.drop(df[df['passenger_count']==8].index,inplace=True)\n",
    "\n",
    "# dropping 3742 rows with  trip duration less than 60secs\n",
    "df=df[df['trip_duration_secs']>60]\n",
    "\n",
    "# trip duration cannot exceed more than 10 hrs as per the nyc limits\n",
    "df.drop(df[df['trip_duration_secs']> 36000].index,inplace=True) # dropping 255 rows\n",
    "\n",
    "# the max distance would be around 2o mile while will take an average duration of about min 45 to max 1h:30 min\n",
    "# hence we are dropping 293 trips got droppped off around 12 am which is an anomaly\n",
    "df.drop(df[df['tpep_pickup_datetime'].dt.date != df['tpep_dropoff_datetime'].dt.date].index, inplace=True)\n",
    "\n",
    "# dropping 43 rows with more than 10000 secs with congestion surcharge 0\n",
    "df.drop(df[(df['trip_duration_secs'] > 10000) & (df['congestion_surcharge'] == 0)].index, inplace=True)\n",
    "\n",
    "# dropping 5 rows with more than 1000 miles\n",
    "df.drop(df[df['trip_distance'] >1000].index, inplace=True)\n",
    "\n",
    "# (5 sec, 0.05 miles, 300 fare) ,(0.18,24,fare-890),(0.38,82,350),(0.38,56704,664.5,same pickup and drop)  rows can be dropped\n",
    "df.drop(index=df[(df.fare_amount== 300) & (df.trip_distance== 0.05) & (df.trip_duration_secs== 5)].index,inplace=True)\n",
    "df.drop(index=df[(df.fare_amount== 890) & (df.trip_distance== 0.18) & (df.trip_duration_secs== 24)].index,inplace=True)\n",
    "df.drop(index=df[(df.fare_amount== 350) & (df.trip_distance== 0.38) & (df.trip_duration_secs== 82)].index,inplace=True)\n",
    "df.drop(index=df[(df.fare_amount== 664.5) & (df.trip_distance== 0.38) & (df.trip_duration_secs== 56704)].index,inplace=True)\n",
    "\n",
    "# For same PU and DO locations where location id 132 on 159 rows the fare is 70 which is flat rate from 132 to manhattan \n",
    "# therefore these rows can be dropped as we are not sure of the desination.\n",
    "df.drop(index=df[(df['PULocationID']==132) & (df['DOLocationID']==132) & (df['fare_amount']==70)].index,inplace=True)\n",
    "\n",
    "#improvement surcharge\n",
    "#where improvement surcharge is 0 (262)\n",
    "#250 '0' in congestion surcharge\n",
    "#236 '0' in trip distance\n",
    "#7 '0' passengers\n",
    "#68 '0' fare amounts\n",
    "#254 '0' mta tax\n",
    "# so these can be dropped (as there were no discernable pattern)\n",
    "df.drop(index = df[df['improvement_surcharge'] == 0].index, inplace = True)\n"
   ]
  },
  {
   "cell_type": "code",
   "execution_count": 46,
   "id": "71fe0174",
   "metadata": {},
   "outputs": [
    {
     "data": {
      "text/plain": [
       "(386411, 32)"
      ]
     },
     "execution_count": 46,
     "metadata": {},
     "output_type": "execute_result"
    }
   ],
   "source": [
    "#shape of data after cleaning\n",
    "df.shape"
   ]
  },
  {
   "cell_type": "code",
   "execution_count": 47,
   "id": "90a2bb46",
   "metadata": {},
   "outputs": [],
   "source": [
    "#where improvement surcharge in 0.3(162)\n",
    "# other things seem to be normal and nothing is discernable\n",
    "#this can be considered as a mistake of wrong collection by the driver and can be imputed\n",
    "# also, even if some pattern pattern is hidden the 162 rows is miniscule to say whether it is not a coincidence\n",
    "df['improvement_surcharge'] = np.where((df['improvement_surcharge'] == 0.3), 1, df['improvement_surcharge'])"
   ]
  },
  {
   "cell_type": "code",
   "execution_count": 48,
   "id": "4650e895",
   "metadata": {},
   "outputs": [],
   "source": [
    "# Column extra\n",
    "# we observed for vendor Id 1, the congestion surcharge and the airport fee were being added in extras. \n",
    "# we subtracted the amount in extras \n",
    "df['extra'] = np.where(df['VendorID']==1,df['extra']-df['congestion_surcharge']-df['Airport_fee'],df['extra'])\n",
    "\n",
    "# After that for extras we still see that are values other than 2.50,0.0,7.5,5.0(correct values for extras)\n",
    "# There are 1418(rows) other values which seem to be anomaly \n",
    "# There are few rows with anomaly so it can be dropped \n",
    "df=df[df['extra'].isin([2.50,0.00,5.00,7.50])]"
   ]
  },
  {
   "cell_type": "code",
   "execution_count": 49,
   "id": "fe95e419",
   "metadata": {},
   "outputs": [],
   "source": [
    "# Imputing mta tax with 0.5 where there were 0\n",
    "df['mta_tax']=np.where(df['mta_tax']==0,0.5,df['mta_tax'])"
   ]
  },
  {
   "cell_type": "code",
   "execution_count": 50,
   "id": "bbf39b90",
   "metadata": {},
   "outputs": [],
   "source": [
    "# column fare amount\n",
    "#two fares for ratecode id 2 are 69.5 and 78.25 - can be imputed to 70 (flat rate)\n",
    "df['fare_amount']=np.where((df.RatecodeID==2) & (df.fare_amount.isin([69.50,78.25])),70.0,df.fare_amount)"
   ]
  },
  {
   "cell_type": "code",
   "execution_count": 51,
   "id": "80f58ac6",
   "metadata": {},
   "outputs": [],
   "source": [
    "#below have congestion surcharge as 2.5\n",
    "#if the pickup starts from airport(132/138/70) and the drop off is in the same Borough(Queens) impute it with zero.\n",
    "#if the pickup starts from airport(132/138/70) and the drop off is in the Borough Brooklyn impute it with zero.\n",
    "#no imputation required for pickup starting from airport(132/138/70) and the drop off is in the Borough Bronx\n",
    "#any pick up and drop locations within the same borough with less and medium level trip distance can be imputed with 0\n",
    "#any pick up and drop locations between different boroughs with with less trip distance can be imputed with 0\n",
    "\n",
    "df['congestion_surcharge']=np.where(((df.congestion_surcharge==2.5) & (df.PULocationID.isin([132,138,70])) & (df.DO_Borough=='Queens') & (df.trip_distance<30)), 0, df.congestion_surcharge)\n",
    "df['congestion_surcharge']=np.where(((df.congestion_surcharge==2.5) & (df.PULocationID.isin([132,138,70])) & (df.DO_Borough=='Brooklyn')), 0, df.congestion_surcharge)\n",
    "df['congestion_surcharge']= np.where(((df.congestion_surcharge==2.5) & (df['PU_Borough'] == df['DO_Borough']) & (df['PU_Borough']!='Manhattan') & (df['DO_Borough']!='Manhattan') & (df['trip_distance'] <5)),0,df['congestion_surcharge'])\n",
    "df['congestion_surcharge']= np.where(((df.congestion_surcharge==2.5) & (df['PU_Borough'] != df['DO_Borough']) & (df['PU_Borough']!='Manhattan') & (df['DO_Borough']!='Manhattan') & (df['trip_distance'] <1)),0,df['congestion_surcharge'])\n"
   ]
  },
  {
   "cell_type": "code",
   "execution_count": 52,
   "id": "750aaf3c",
   "metadata": {},
   "outputs": [],
   "source": [
    "#changing the tips in the cash amount to 0, as the column will only consist of tips made using other modes of payment\n",
    "df['tip_amount']=np.where(((df.payment_type == 2) & (df.tip_amount!= 0)),0,df.tip_amount)"
   ]
  },
  {
   "cell_type": "code",
   "execution_count": 53,
   "id": "7baefe03",
   "metadata": {},
   "outputs": [],
   "source": [
    "#Airport_fee\n",
    "\n",
    "#started from manhattan - 10 are 70 dollars fare - these might have been between the jfk airport and manhattan\n",
    "df.drop(index= df[(df['Airport_fee']==1.25) & (df.PU_Borough=='Manhattan') & (df.fare_amount==70)].index,inplace=True)\n",
    "\n",
    "#other 6 are much far from the jfk and lagaurdia - airport fee can be imputed with 0\n",
    "df['Airport_fee']=np.where(((df['Airport_fee']==1.25) & (df.PU_Borough=='Manhattan') & (df.fare_amount!=70)),0,df['Airport_fee'])\n",
    "\n",
    "#other occurances where the trip is not starting from 132,138,70 can be imputed with 0\n",
    "df['Airport_fee']=np.where(((df['Airport_fee']==1.25) & ~(df['PULocationID'].isin([132,138,70]))),0,df['Airport_fee'])\n",
    "\n",
    "#all the other occurances where the trip is starting from 132,138,70 can be imputed with 1.75\n",
    "df['Airport_fee']=np.where(((df['Airport_fee']==1.25) & (df['PULocationID'].isin([132,138,70]))),1.75,df['Airport_fee'])"
   ]
  },
  {
   "cell_type": "code",
   "execution_count": 54,
   "id": "426d40cc",
   "metadata": {},
   "outputs": [],
   "source": [
    "#imputing wrong values present for vendor id 2 in total_amount\n",
    "df['total_check']= np.round(df.fare_amount+df.extra+df.mta_tax+df.tip_amount+df.tolls_amount+df.improvement_surcharge+df.congestion_surcharge+df.Airport_fee,2)\n",
    "df['difference']= np.round(df['total_check']-df['total_amount'],2)\n",
    "df['total_amount'] = np.where(((df.difference!=0)),df.total_check,df.total_amount)"
   ]
  },
  {
   "cell_type": "markdown",
   "id": "a0615cac",
   "metadata": {},
   "source": [
    "<b>Dropping Insignificant Features</b>"
   ]
  },
  {
   "cell_type": "code",
   "execution_count": 55,
   "id": "7361745c",
   "metadata": {},
   "outputs": [],
   "source": [
    "#dropping the Total check Column\n",
    "df = df.drop('total_check', axis=1)\n",
    "\n",
    "#dropping the difference Column\n",
    "df = df.drop('difference', axis=1)"
   ]
  },
  {
   "cell_type": "code",
   "execution_count": 56,
   "id": "d1b89618",
   "metadata": {},
   "outputs": [
    {
     "data": {
      "text/plain": [
       "(132030, 32)"
      ]
     },
     "execution_count": 56,
     "metadata": {},
     "output_type": "execute_result"
    }
   ],
   "source": [
    "# filtering only week 1 data for further analysis\n",
    "week1 = [3,4,5,6,7]\n",
    "hours = [16,17,18,19]\n",
    "taxidf1 = df[(df['tpep_pickup_datetime'].dt.day.isin(week1)) & (df['tpep_pickup_datetime'].dt.hour.isin(hours))]\n",
    "taxidf1.shape"
   ]
  },
  {
   "cell_type": "markdown",
   "id": "3d754ac5",
   "metadata": {},
   "source": [
    "<b>Outlier Detection</B>"
   ]
  },
  {
   "cell_type": "code",
   "execution_count": 57,
   "id": "44081013",
   "metadata": {},
   "outputs": [
    {
     "name": "stdout",
     "output_type": "stream",
     "text": [
      "Columns with outliers:\n",
      "passenger_count           True\n",
      "trip_distance             True\n",
      "PULocationID             False\n",
      "DOLocationID             False\n",
      "fare_amount               True\n",
      "extra                     True\n",
      "mta_tax                  False\n",
      "tip_amount                True\n",
      "tolls_amount              True\n",
      "improvement_surcharge    False\n",
      "total_amount              True\n",
      "congestion_surcharge      True\n",
      "Airport_fee               True\n",
      "trip_duration_secs        True\n",
      "pickup_hour              False\n",
      "drop_hour                False\n",
      "dtype: bool\n"
     ]
    }
   ],
   "source": [
    "df_num = taxidf1.select_dtypes(include='number')\n",
    "\n",
    "# Check for outliers using descriptive statistics\n",
    "# Calculate the 25th (Q1) and 75th (Q3) percentiles\n",
    "Q1 = df_num.quantile(0.25)\n",
    "Q3 = df_num.quantile(0.75)\n",
    "\n",
    "# Calculate the Interquartile Range (IQR)\n",
    "IQR = Q3 - Q1\n",
    "\n",
    "# Define the upper and lower bounds for outlier detection\n",
    "lower_bound = Q1 - 1.5 * IQR\n",
    "upper_bound = Q3 + 1.5 * IQR\n",
    "\n",
    "# Check for outliers\n",
    "outliers = (df_num < lower_bound) | (df_num > upper_bound)\n",
    "\n",
    "# Print the columns with outliers\n",
    "print(\"Columns with outliers:\")\n",
    "print(outliers.any())"
   ]
  },
  {
   "cell_type": "code",
   "execution_count": 58,
   "id": "818ff113",
   "metadata": {
    "scrolled": true
   },
   "outputs": [
    {
     "name": "stdout",
     "output_type": "stream",
     "text": [
      "Outlier Information:\n",
      "passenger_count: 32470 outliers (24.59% of total)\n",
      "trip_distance: 16320 outliers (12.36% of total)\n",
      "PULocationID: 0 outliers (0.00% of total)\n",
      "DOLocationID: 0 outliers (0.00% of total)\n",
      "fare_amount: 13773 outliers (10.43% of total)\n",
      "extra: 11885 outliers (9.00% of total)\n",
      "mta_tax: 0 outliers (0.00% of total)\n",
      "tip_amount: 8457 outliers (6.41% of total)\n",
      "tolls_amount: 9459 outliers (7.16% of total)\n",
      "improvement_surcharge: 0 outliers (0.00% of total)\n",
      "total_amount: 14426 outliers (10.93% of total)\n",
      "congestion_surcharge: 6929 outliers (5.25% of total)\n",
      "Airport_fee: 10383 outliers (7.86% of total)\n",
      "trip_duration_secs: 9371 outliers (7.10% of total)\n",
      "pickup_hour: 0 outliers (0.00% of total)\n",
      "drop_hour: 0 outliers (0.00% of total)\n"
     ]
    }
   ],
   "source": [
    "numerical_columns = taxidf1.select_dtypes(include='number')\n",
    "\n",
    "# Check for outliers using descriptive statistics\n",
    "# Calculate the 25th (Q1) and 75th (Q3) percentiles\n",
    "Q1 = numerical_columns.quantile(0.25)\n",
    "Q3 = numerical_columns.quantile(0.75)\n",
    "\n",
    "# Calculate the Interquartile Range (IQR)\n",
    "IQR = Q3 - Q1\n",
    "\n",
    "# Define the upper and lower bounds for outlier detection\n",
    "lower_bound = Q1 - 1.5 * IQR\n",
    "upper_bound = Q3 + 1.5 * IQR\n",
    "\n",
    "# Check for outliers\n",
    "outliers = (numerical_columns < lower_bound) | (numerical_columns > upper_bound)\n",
    "\n",
    "# Print information about potential outliers in each numerical column\n",
    "print(\"Outlier Information:\")\n",
    "for col in outliers.columns:\n",
    "    num_outliers = outliers[col].sum()\n",
    "    total_values = len(outliers)\n",
    "    percentage_outliers = (num_outliers / total_values) * 100\n",
    "    print(f\"{col}: {num_outliers} outliers ({percentage_outliers:.2f}% of total)\")"
   ]
  },
  {
   "cell_type": "code",
   "execution_count": 74,
   "id": "d9abc625",
   "metadata": {},
   "outputs": [
    {
     "data": {
      "image/png": "[encoded data removed]",
      "text/plain": [
       "<Figure size 2000x2000 with 16 Axes>"
      ]
     },
     "metadata": {},
     "output_type": "display_data"
    }
   ],
   "source": [
    "# boxplot for visualising outliers\n",
    "\n",
    "fig, ax= plt.subplots(4,4, figsize=(20,20))\n",
    "for i,j in zip(range(len(df.select_dtypes(include='number').columns)), ax.flatten()):\n",
    "    sns.boxplot(y=df.select_dtypes(include='number').iloc[:,i],ax=j,orient='v', color = 'orange')\n",
    "    j.set_facecolor(\"#F2F2F2\")\n",
    "plt.tight_layout()\n",
    "plt.show()"
   ]
  },
  {
   "cell_type": "code",
   "execution_count": null,
   "id": "a04b03ff",
   "metadata": {},
   "outputs": [],
   "source": [
    "# the boxplot confirms the presence of outlier in all columns\n",
    "# except location ids, mta tax and improvement surcharge\n",
    "# lets find the most irrelevant outliers and impute/remove those values for further analysis"
   ]
  },
  {
   "cell_type": "code",
   "execution_count": 60,
   "id": "763e8481",
   "metadata": {},
   "outputs": [],
   "source": [
    "# dropping insignificant rows \n",
    "df = taxidf1.drop(taxidf1[taxidf1[\"trip_distance\"]<=0.5].index, axis=0)\n",
    "taxidf1.drop(taxidf1[(taxidf1[\"trip_duration_secs\"]>5000) & (taxidf1[\"trip_distance\"]<10)].index,axis=0,inplace=True)"
   ]
  },
  {
   "cell_type": "code",
   "execution_count": 80,
   "id": "4b2014ad",
   "metadata": {},
   "outputs": [
    {
     "data": {
      "image/png": "[encoded data removed]",
      "text/plain": [
       "<Figure size 640x480 with 1 Axes>"
      ]
     },
     "metadata": {},
     "output_type": "display_data"
    }
   ],
   "source": [
    "# outlier analysis\n",
    "# trip_distance\n",
    "ax = plt.axes()\n",
    " \n",
    "# Setting the background color of the plot\n",
    "# using set_facecolor() method\n",
    "ax.set_facecolor(\"#F2F2F2\")\n",
    "sns.boxplot(x = taxidf1['trip_distance'],whis= 20, color = 'orange')\n",
    "plt.savefig('my_plot.png', transparent=True)"
   ]
  },
  {
   "cell_type": "code",
   "execution_count": 66,
   "id": "97e060e9",
   "metadata": {},
   "outputs": [],
   "source": [
    "# dropping extreme outliers\n",
    "\n",
    "taxidf1 = taxidf1[taxidf1[\"trip_distance\"] <= 43]"
   ]
  },
  {
   "cell_type": "code",
   "execution_count": 78,
   "id": "ac11e463",
   "metadata": {},
   "outputs": [
    {
     "data": {
      "image/png": "[encoded data removed]",
      "text/plain": [
       "<Figure size 640x480 with 1 Axes>"
      ]
     },
     "metadata": {},
     "output_type": "display_data"
    }
   ],
   "source": [
    "# fare amount\n",
    "ax = plt.axes()\n",
    "ax.set_facecolor(\"#F2F2F2\")\n",
    "sns.boxplot(x = taxidf1['fare_amount'], whis=15, color = 'orange')\n",
    "plt.show()"
   ]
  },
  {
   "cell_type": "code",
   "execution_count": 81,
   "id": "1cad7f0b",
   "metadata": {},
   "outputs": [],
   "source": [
    "Q1 = taxidf1[\"fare_amount\"].quantile(0.25)\n",
    "Q3 = taxidf1[\"fare_amount\"].quantile(0.75)\n",
    "\n",
    "# Calculate the Interquartile Range (IQR)\n",
    "IQR = Q3 - Q1\n",
    "\n",
    "# Define the upper and lower bounds for outlier detection\n",
    "lower_bound = Q1 - 15 * IQR\n",
    "upper_bound = Q3 + 15 * IQR"
   ]
  },
  {
   "cell_type": "code",
   "execution_count": 82,
   "id": "bed0426c",
   "metadata": {},
   "outputs": [
    {
     "data": {
      "text/html": [
       "<div>\n",
       "<style scoped>\n",
       "    .dataframe tbody tr th:only-of-type {\n",
       "        vertical-align: middle;\n",
       "    }\n",
       "\n",
       "    .dataframe tbody tr th {\n",
       "        vertical-align: top;\n",
       "    }\n",
       "\n",
       "    .dataframe thead th {\n",
       "        text-align: right;\n",
       "    }\n",
       "</style>\n",
       "<table border=\"1\" class=\"dataframe\">\n",
       "  <thead>\n",
       "    <tr style=\"text-align: right;\">\n",
       "      <th></th>\n",
       "      <th>VendorID</th>\n",
       "      <th>tpep_pickup_datetime</th>\n",
       "      <th>tpep_dropoff_datetime</th>\n",
       "      <th>passenger_count</th>\n",
       "      <th>trip_distance</th>\n",
       "      <th>RatecodeID</th>\n",
       "      <th>store_and_fwd_flag</th>\n",
       "      <th>PULocationID</th>\n",
       "      <th>DOLocationID</th>\n",
       "      <th>payment_type</th>\n",
       "      <th>fare_amount</th>\n",
       "      <th>extra</th>\n",
       "      <th>mta_tax</th>\n",
       "      <th>tip_amount</th>\n",
       "      <th>tolls_amount</th>\n",
       "      <th>improvement_surcharge</th>\n",
       "      <th>total_amount</th>\n",
       "      <th>congestion_surcharge</th>\n",
       "      <th>Airport_fee</th>\n",
       "      <th>PU_Borough</th>\n",
       "      <th>PU_Zone</th>\n",
       "      <th>PU_service_zone</th>\n",
       "      <th>DO_Borough</th>\n",
       "      <th>DO_Zone</th>\n",
       "      <th>DO_service_zone</th>\n",
       "      <th>trip_duration_secs</th>\n",
       "      <th>pickup_date</th>\n",
       "      <th>dropoff_date</th>\n",
       "      <th>pickup_hour</th>\n",
       "      <th>drop_hour</th>\n",
       "      <th>pickup_day</th>\n",
       "      <th>dropoff_day</th>\n",
       "    </tr>\n",
       "  </thead>\n",
       "  <tbody>\n",
       "    <tr>\n",
       "      <th>606797</th>\n",
       "      <td>2</td>\n",
       "      <td>2023-04-06 19:10:35</td>\n",
       "      <td>2023-04-06 20:07:30</td>\n",
       "      <td>3</td>\n",
       "      <td>40.71</td>\n",
       "      <td>4.0</td>\n",
       "      <td>N</td>\n",
       "      <td>132</td>\n",
       "      <td>1</td>\n",
       "      <td>1</td>\n",
       "      <td>187.8</td>\n",
       "      <td>2.5</td>\n",
       "      <td>0.5</td>\n",
       "      <td>15.0</td>\n",
       "      <td>21.3</td>\n",
       "      <td>1.0</td>\n",
       "      <td>229.85</td>\n",
       "      <td>0.0</td>\n",
       "      <td>1.75</td>\n",
       "      <td>Queens</td>\n",
       "      <td>JFK Airport</td>\n",
       "      <td>Airports</td>\n",
       "      <td>EWR</td>\n",
       "      <td>Newark Airport</td>\n",
       "      <td>EWR</td>\n",
       "      <td>3415.0</td>\n",
       "      <td>2023-04-06</td>\n",
       "      <td>2023-04-06</td>\n",
       "      <td>19</td>\n",
       "      <td>20</td>\n",
       "      <td>Thursday</td>\n",
       "      <td>Thursday</td>\n",
       "    </tr>\n",
       "    <tr>\n",
       "      <th>689134</th>\n",
       "      <td>2</td>\n",
       "      <td>2023-04-07 16:43:55</td>\n",
       "      <td>2023-04-07 17:33:17</td>\n",
       "      <td>1</td>\n",
       "      <td>36.11</td>\n",
       "      <td>4.0</td>\n",
       "      <td>N</td>\n",
       "      <td>226</td>\n",
       "      <td>1</td>\n",
       "      <td>1</td>\n",
       "      <td>217.9</td>\n",
       "      <td>2.5</td>\n",
       "      <td>0.5</td>\n",
       "      <td>0.0</td>\n",
       "      <td>31.3</td>\n",
       "      <td>1.0</td>\n",
       "      <td>253.20</td>\n",
       "      <td>0.0</td>\n",
       "      <td>0.00</td>\n",
       "      <td>Queens</td>\n",
       "      <td>Sunnyside</td>\n",
       "      <td>Boro Zone</td>\n",
       "      <td>EWR</td>\n",
       "      <td>Newark Airport</td>\n",
       "      <td>EWR</td>\n",
       "      <td>2962.0</td>\n",
       "      <td>2023-04-07</td>\n",
       "      <td>2023-04-07</td>\n",
       "      <td>16</td>\n",
       "      <td>17</td>\n",
       "      <td>Friday</td>\n",
       "      <td>Friday</td>\n",
       "    </tr>\n",
       "  </tbody>\n",
       "</table>\n",
       "</div>"
      ],
      "text/plain": [
       "       VendorID tpep_pickup_datetime tpep_dropoff_datetime  passenger_count  \\\n",
       "606797        2  2023-04-06 19:10:35   2023-04-06 20:07:30                3   \n",
       "689134        2  2023-04-07 16:43:55   2023-04-07 17:33:17                1   \n",
       "\n",
       "        trip_distance RatecodeID store_and_fwd_flag  PULocationID  \\\n",
       "606797          40.71        4.0                  N           132   \n",
       "689134          36.11        4.0                  N           226   \n",
       "\n",
       "        DOLocationID payment_type  fare_amount  extra  mta_tax  tip_amount  \\\n",
       "606797             1            1        187.8    2.5      0.5        15.0   \n",
       "689134             1            1        217.9    2.5      0.5         0.0   \n",
       "\n",
       "        tolls_amount  improvement_surcharge  total_amount  \\\n",
       "606797          21.3                    1.0        229.85   \n",
       "689134          31.3                    1.0        253.20   \n",
       "\n",
       "        congestion_surcharge  Airport_fee PU_Borough      PU_Zone  \\\n",
       "606797                   0.0         1.75     Queens  JFK Airport   \n",
       "689134                   0.0         0.00     Queens    Sunnyside   \n",
       "\n",
       "       PU_service_zone DO_Borough         DO_Zone DO_service_zone  \\\n",
       "606797        Airports        EWR  Newark Airport             EWR   \n",
       "689134       Boro Zone        EWR  Newark Airport             EWR   \n",
       "\n",
       "        trip_duration_secs pickup_date dropoff_date  pickup_hour  drop_hour  \\\n",
       "606797              3415.0  2023-04-06   2023-04-06           19         20   \n",
       "689134              2962.0  2023-04-07   2023-04-07           16         17   \n",
       "\n",
       "       pickup_day dropoff_day  \n",
       "606797   Thursday    Thursday  \n",
       "689134     Friday      Friday  "
      ]
     },
     "execution_count": 82,
     "metadata": {},
     "output_type": "execute_result"
    }
   ],
   "source": [
    "# checking for outliers present above upper bound\n",
    "taxidf1[taxidf1[\"fare_amount\"] > upper_bound]"
   ]
  },
  {
   "cell_type": "code",
   "execution_count": 83,
   "id": "6cb8f820",
   "metadata": {},
   "outputs": [],
   "source": [
    "# dropping extreme outliers for fare amount\n",
    "taxidf1 = taxidf1[taxidf1[\"fare_amount\"] < upper_bound]"
   ]
  },
  {
   "cell_type": "code",
   "execution_count": 85,
   "id": "c76bd022",
   "metadata": {},
   "outputs": [
    {
     "data": {
      "image/png": "[encoded data removed]",
      "text/plain": [
       "<Figure size 640x480 with 1 Axes>"
      ]
     },
     "metadata": {},
     "output_type": "display_data"
    }
   ],
   "source": [
    "# total_amount\n",
    "ax = plt.axes()\n",
    " \n",
    "# Setting the background color of the plot\n",
    "# using set_facecolor() method\n",
    "ax.set_facecolor(\"#F2F2F2\")\n",
    "sns.boxplot(x = taxidf1[\"total_amount\"], whis=15, color='orange')\n",
    "plt.savefig('my_plot.png', transparent=True)"
   ]
  },
  {
   "cell_type": "code",
   "execution_count": 86,
   "id": "c4492610",
   "metadata": {},
   "outputs": [],
   "source": [
    "Q1 =taxidf1[\"total_amount\"].quantile(0.25)\n",
    "Q3 = taxidf1[\"total_amount\"].quantile(0.75)\n",
    "\n",
    "# Calculate the Interquartile Range (IQR)\n",
    "IQR = Q3 - Q1\n",
    "\n",
    "# Define the upper and lower bounds for outlier detection\n",
    "lower_bound = Q1 - 15 * IQR\n",
    "upper_bound = Q3 + 15 * IQR"
   ]
  },
  {
   "cell_type": "code",
   "execution_count": 87,
   "id": "f86d4163",
   "metadata": {},
   "outputs": [
    {
     "data": {
      "text/html": [
       "<div>\n",
       "<style scoped>\n",
       "    .dataframe tbody tr th:only-of-type {\n",
       "        vertical-align: middle;\n",
       "    }\n",
       "\n",
       "    .dataframe tbody tr th {\n",
       "        vertical-align: top;\n",
       "    }\n",
       "\n",
       "    .dataframe thead th {\n",
       "        text-align: right;\n",
       "    }\n",
       "</style>\n",
       "<table border=\"1\" class=\"dataframe\">\n",
       "  <thead>\n",
       "    <tr style=\"text-align: right;\">\n",
       "      <th></th>\n",
       "      <th>VendorID</th>\n",
       "      <th>tpep_pickup_datetime</th>\n",
       "      <th>tpep_dropoff_datetime</th>\n",
       "      <th>passenger_count</th>\n",
       "      <th>trip_distance</th>\n",
       "      <th>RatecodeID</th>\n",
       "      <th>store_and_fwd_flag</th>\n",
       "      <th>PULocationID</th>\n",
       "      <th>DOLocationID</th>\n",
       "      <th>payment_type</th>\n",
       "      <th>fare_amount</th>\n",
       "      <th>extra</th>\n",
       "      <th>mta_tax</th>\n",
       "      <th>tip_amount</th>\n",
       "      <th>tolls_amount</th>\n",
       "      <th>improvement_surcharge</th>\n",
       "      <th>total_amount</th>\n",
       "      <th>congestion_surcharge</th>\n",
       "      <th>Airport_fee</th>\n",
       "      <th>PU_Borough</th>\n",
       "      <th>PU_Zone</th>\n",
       "      <th>PU_service_zone</th>\n",
       "      <th>DO_Borough</th>\n",
       "      <th>DO_Zone</th>\n",
       "      <th>DO_service_zone</th>\n",
       "      <th>trip_duration_secs</th>\n",
       "      <th>pickup_date</th>\n",
       "      <th>dropoff_date</th>\n",
       "      <th>pickup_hour</th>\n",
       "      <th>drop_hour</th>\n",
       "      <th>pickup_day</th>\n",
       "      <th>dropoff_day</th>\n",
       "    </tr>\n",
       "  </thead>\n",
       "  <tbody>\n",
       "  </tbody>\n",
       "</table>\n",
       "</div>"
      ],
      "text/plain": [
       "Empty DataFrame\n",
       "Columns: [VendorID, tpep_pickup_datetime, tpep_dropoff_datetime, passenger_count, trip_distance, RatecodeID, store_and_fwd_flag, PULocationID, DOLocationID, payment_type, fare_amount, extra, mta_tax, tip_amount, tolls_amount, improvement_surcharge, total_amount, congestion_surcharge, Airport_fee, PU_Borough, PU_Zone, PU_service_zone, DO_Borough, DO_Zone, DO_service_zone, trip_duration_secs, pickup_date, dropoff_date, pickup_hour, drop_hour, pickup_day, dropoff_day]\n",
       "Index: []"
      ]
     },
     "execution_count": 87,
     "metadata": {},
     "output_type": "execute_result"
    }
   ],
   "source": [
    "# checking for outliers above upper bound\n",
    "taxidf1[taxidf1[\"total_amount\"] > upper_bound]"
   ]
  },
  {
   "cell_type": "code",
   "execution_count": 88,
   "id": "b0ac3730",
   "metadata": {},
   "outputs": [],
   "source": [
    "# dropping extreme outliers for total amount\n",
    "taxidf1 = taxidf1[taxidf1[\"total_amount\"] < upper_bound]"
   ]
  },
  {
   "cell_type": "code",
   "execution_count": 89,
   "id": "0b0e513b",
   "metadata": {},
   "outputs": [
    {
     "data": {
      "text/plain": [
       "(132013, 32)"
      ]
     },
     "execution_count": 89,
     "metadata": {},
     "output_type": "execute_result"
    }
   ],
   "source": [
    "taxidf1.shape"
   ]
  },
  {
   "cell_type": "code",
   "execution_count": 91,
   "id": "3c91dda2",
   "metadata": {},
   "outputs": [
    {
     "data": {
      "image/png": "[encoded data removed]",
      "text/plain": [
       "<Figure size 640x480 with 1 Axes>"
      ]
     },
     "metadata": {},
     "output_type": "display_data"
    }
   ],
   "source": [
    "# total_amount\n",
    "ax = plt.axes()\n",
    " \n",
    "# Setting the background color of the plot\n",
    "# using set_facecolor() method\n",
    "ax.set_facecolor(\"#F2F2F2\")\n",
    "sns.boxplot(x = taxidf1[\"trip_duration_secs\"], whis=15, color = 'orange')\n",
    "plt.savefig('my_plot.png', transparent=True)"
   ]
  },
  {
   "cell_type": "code",
   "execution_count": 92,
   "id": "7f0fcb0e",
   "metadata": {},
   "outputs": [],
   "source": [
    "Q1 = taxidf1[\"trip_duration_secs\"].quantile(0.25)\n",
    "Q3 = taxidf1[\"trip_duration_secs\"].quantile(0.75)\n",
    "\n",
    "# Calculate the Interquartile Range (IQR)\n",
    "IQR = Q3 - Q1\n",
    "\n",
    "# Define the upper and lower bounds for outlier detection\n",
    "lower_bound = Q1 - 15 * IQR\n",
    "upper_bound = Q3 + 15 * IQR"
   ]
  },
  {
   "cell_type": "code",
   "execution_count": 93,
   "id": "0e7a5a4e",
   "metadata": {},
   "outputs": [
    {
     "data": {
      "text/html": [
       "<div>\n",
       "<style scoped>\n",
       "    .dataframe tbody tr th:only-of-type {\n",
       "        vertical-align: middle;\n",
       "    }\n",
       "\n",
       "    .dataframe tbody tr th {\n",
       "        vertical-align: top;\n",
       "    }\n",
       "\n",
       "    .dataframe thead th {\n",
       "        text-align: right;\n",
       "    }\n",
       "</style>\n",
       "<table border=\"1\" class=\"dataframe\">\n",
       "  <thead>\n",
       "    <tr style=\"text-align: right;\">\n",
       "      <th></th>\n",
       "      <th>VendorID</th>\n",
       "      <th>tpep_pickup_datetime</th>\n",
       "      <th>tpep_dropoff_datetime</th>\n",
       "      <th>passenger_count</th>\n",
       "      <th>trip_distance</th>\n",
       "      <th>RatecodeID</th>\n",
       "      <th>store_and_fwd_flag</th>\n",
       "      <th>PULocationID</th>\n",
       "      <th>DOLocationID</th>\n",
       "      <th>payment_type</th>\n",
       "      <th>fare_amount</th>\n",
       "      <th>extra</th>\n",
       "      <th>mta_tax</th>\n",
       "      <th>tip_amount</th>\n",
       "      <th>tolls_amount</th>\n",
       "      <th>improvement_surcharge</th>\n",
       "      <th>total_amount</th>\n",
       "      <th>congestion_surcharge</th>\n",
       "      <th>Airport_fee</th>\n",
       "      <th>PU_Borough</th>\n",
       "      <th>PU_Zone</th>\n",
       "      <th>PU_service_zone</th>\n",
       "      <th>DO_Borough</th>\n",
       "      <th>DO_Zone</th>\n",
       "      <th>DO_service_zone</th>\n",
       "      <th>trip_duration_secs</th>\n",
       "      <th>pickup_date</th>\n",
       "      <th>dropoff_date</th>\n",
       "      <th>pickup_hour</th>\n",
       "      <th>drop_hour</th>\n",
       "      <th>pickup_day</th>\n",
       "      <th>dropoff_day</th>\n",
       "    </tr>\n",
       "  </thead>\n",
       "  <tbody>\n",
       "  </tbody>\n",
       "</table>\n",
       "</div>"
      ],
      "text/plain": [
       "Empty DataFrame\n",
       "Columns: [VendorID, tpep_pickup_datetime, tpep_dropoff_datetime, passenger_count, trip_distance, RatecodeID, store_and_fwd_flag, PULocationID, DOLocationID, payment_type, fare_amount, extra, mta_tax, tip_amount, tolls_amount, improvement_surcharge, total_amount, congestion_surcharge, Airport_fee, PU_Borough, PU_Zone, PU_service_zone, DO_Borough, DO_Zone, DO_service_zone, trip_duration_secs, pickup_date, dropoff_date, pickup_hour, drop_hour, pickup_day, dropoff_day]\n",
       "Index: []"
      ]
     },
     "execution_count": 93,
     "metadata": {},
     "output_type": "execute_result"
    }
   ],
   "source": [
    "# checking for outliers above upper bound\n",
    "taxidf1[taxidf1[\"trip_duration_secs\"] > upper_bound]"
   ]
  },
  {
   "cell_type": "code",
   "execution_count": 94,
   "id": "18059de7",
   "metadata": {},
   "outputs": [],
   "source": [
    "# dropping extreme outliers for trip duration\n",
    "taxidf1 = taxidf1[taxidf1[\"trip_duration_secs\"] < upper_bound]"
   ]
  },
  {
   "cell_type": "code",
   "execution_count": 95,
   "id": "3d704412",
   "metadata": {},
   "outputs": [
    {
     "data": {
      "text/plain": [
       "(132013, 32)"
      ]
     },
     "execution_count": 95,
     "metadata": {},
     "output_type": "execute_result"
    }
   ],
   "source": [
    "# final dataset size\n",
    "taxidf1.shape"
   ]
  },
  {
   "cell_type": "markdown",
   "id": "b7b2dcca",
   "metadata": {},
   "source": [
    "The final dataset size after preprocessing stage contains 1,32,013 rows and 32 columns."
   ]
  },
  {
   "cell_type": "markdown",
   "id": "51109904",
   "metadata": {},
   "source": [
    "<b>Five Number Summary of Variables</b>"
   ]
  },
  {
   "cell_type": "code",
   "execution_count": 98,
   "id": "d9723e03",
   "metadata": {},
   "outputs": [
    {
     "data": {
      "text/html": [
       "<div>\n",
       "<style scoped>\n",
       "    .dataframe tbody tr th:only-of-type {\n",
       "        vertical-align: middle;\n",
       "    }\n",
       "\n",
       "    .dataframe tbody tr th {\n",
       "        vertical-align: top;\n",
       "    }\n",
       "\n",
       "    .dataframe thead th {\n",
       "        text-align: right;\n",
       "    }\n",
       "</style>\n",
       "<table border=\"1\" class=\"dataframe\">\n",
       "  <thead>\n",
       "    <tr style=\"text-align: right;\">\n",
       "      <th></th>\n",
       "      <th>count</th>\n",
       "      <th>mean</th>\n",
       "      <th>std</th>\n",
       "      <th>min</th>\n",
       "      <th>25%</th>\n",
       "      <th>50%</th>\n",
       "      <th>75%</th>\n",
       "      <th>max</th>\n",
       "    </tr>\n",
       "  </thead>\n",
       "  <tbody>\n",
       "    <tr>\n",
       "      <th>passenger_count</th>\n",
       "      <td>132013.0</td>\n",
       "      <td>1.419943</td>\n",
       "      <td>0.905025</td>\n",
       "      <td>1.00</td>\n",
       "      <td>1.00</td>\n",
       "      <td>1.00</td>\n",
       "      <td>1.00</td>\n",
       "      <td>6.00</td>\n",
       "    </tr>\n",
       "    <tr>\n",
       "      <th>trip_distance</th>\n",
       "      <td>132013.0</td>\n",
       "      <td>3.178477</td>\n",
       "      <td>4.220052</td>\n",
       "      <td>0.01</td>\n",
       "      <td>1.04</td>\n",
       "      <td>1.70</td>\n",
       "      <td>2.98</td>\n",
       "      <td>39.63</td>\n",
       "    </tr>\n",
       "    <tr>\n",
       "      <th>PULocationID</th>\n",
       "      <td>132013.0</td>\n",
       "      <td>167.159704</td>\n",
       "      <td>61.984597</td>\n",
       "      <td>4.00</td>\n",
       "      <td>132.00</td>\n",
       "      <td>162.00</td>\n",
       "      <td>234.00</td>\n",
       "      <td>263.00</td>\n",
       "    </tr>\n",
       "    <tr>\n",
       "      <th>DOLocationID</th>\n",
       "      <td>132013.0</td>\n",
       "      <td>166.599865</td>\n",
       "      <td>68.819510</td>\n",
       "      <td>1.00</td>\n",
       "      <td>116.00</td>\n",
       "      <td>163.00</td>\n",
       "      <td>234.00</td>\n",
       "      <td>263.00</td>\n",
       "    </tr>\n",
       "    <tr>\n",
       "      <th>fare_amount</th>\n",
       "      <td>132013.0</td>\n",
       "      <td>18.155067</td>\n",
       "      <td>15.984805</td>\n",
       "      <td>3.00</td>\n",
       "      <td>9.30</td>\n",
       "      <td>12.80</td>\n",
       "      <td>19.80</td>\n",
       "      <td>175.00</td>\n",
       "    </tr>\n",
       "    <tr>\n",
       "      <th>extra</th>\n",
       "      <td>132013.0</td>\n",
       "      <td>2.753877</td>\n",
       "      <td>1.076575</td>\n",
       "      <td>0.00</td>\n",
       "      <td>2.50</td>\n",
       "      <td>2.50</td>\n",
       "      <td>2.50</td>\n",
       "      <td>7.50</td>\n",
       "    </tr>\n",
       "    <tr>\n",
       "      <th>mta_tax</th>\n",
       "      <td>132013.0</td>\n",
       "      <td>0.500000</td>\n",
       "      <td>0.000000</td>\n",
       "      <td>0.50</td>\n",
       "      <td>0.50</td>\n",
       "      <td>0.50</td>\n",
       "      <td>0.50</td>\n",
       "      <td>0.50</td>\n",
       "    </tr>\n",
       "    <tr>\n",
       "      <th>tip_amount</th>\n",
       "      <td>132013.0</td>\n",
       "      <td>3.578966</td>\n",
       "      <td>3.749207</td>\n",
       "      <td>0.00</td>\n",
       "      <td>1.00</td>\n",
       "      <td>3.02</td>\n",
       "      <td>4.55</td>\n",
       "      <td>158.00</td>\n",
       "    </tr>\n",
       "    <tr>\n",
       "      <th>tolls_amount</th>\n",
       "      <td>132013.0</td>\n",
       "      <td>0.498085</td>\n",
       "      <td>1.898453</td>\n",
       "      <td>0.00</td>\n",
       "      <td>0.00</td>\n",
       "      <td>0.00</td>\n",
       "      <td>0.00</td>\n",
       "      <td>41.71</td>\n",
       "    </tr>\n",
       "    <tr>\n",
       "      <th>improvement_surcharge</th>\n",
       "      <td>132013.0</td>\n",
       "      <td>1.000000</td>\n",
       "      <td>0.000000</td>\n",
       "      <td>1.00</td>\n",
       "      <td>1.00</td>\n",
       "      <td>1.00</td>\n",
       "      <td>1.00</td>\n",
       "      <td>1.00</td>\n",
       "    </tr>\n",
       "    <tr>\n",
       "      <th>total_amount</th>\n",
       "      <td>132013.0</td>\n",
       "      <td>28.992484</td>\n",
       "      <td>20.634856</td>\n",
       "      <td>5.90</td>\n",
       "      <td>17.36</td>\n",
       "      <td>22.20</td>\n",
       "      <td>29.88</td>\n",
       "      <td>214.17</td>\n",
       "    </tr>\n",
       "    <tr>\n",
       "      <th>congestion_surcharge</th>\n",
       "      <td>132013.0</td>\n",
       "      <td>2.368877</td>\n",
       "      <td>0.557331</td>\n",
       "      <td>0.00</td>\n",
       "      <td>2.50</td>\n",
       "      <td>2.50</td>\n",
       "      <td>2.50</td>\n",
       "      <td>2.50</td>\n",
       "    </tr>\n",
       "    <tr>\n",
       "      <th>Airport_fee</th>\n",
       "      <td>132013.0</td>\n",
       "      <td>0.137613</td>\n",
       "      <td>0.471049</td>\n",
       "      <td>0.00</td>\n",
       "      <td>0.00</td>\n",
       "      <td>0.00</td>\n",
       "      <td>0.00</td>\n",
       "      <td>1.75</td>\n",
       "    </tr>\n",
       "    <tr>\n",
       "      <th>trip_duration_secs</th>\n",
       "      <td>132013.0</td>\n",
       "      <td>930.973601</td>\n",
       "      <td>751.976508</td>\n",
       "      <td>61.00</td>\n",
       "      <td>447.00</td>\n",
       "      <td>718.00</td>\n",
       "      <td>1138.00</td>\n",
       "      <td>9213.00</td>\n",
       "    </tr>\n",
       "    <tr>\n",
       "      <th>pickup_hour</th>\n",
       "      <td>132013.0</td>\n",
       "      <td>17.477286</td>\n",
       "      <td>1.084292</td>\n",
       "      <td>16.00</td>\n",
       "      <td>17.00</td>\n",
       "      <td>17.00</td>\n",
       "      <td>18.00</td>\n",
       "      <td>19.00</td>\n",
       "    </tr>\n",
       "    <tr>\n",
       "      <th>drop_hour</th>\n",
       "      <td>132013.0</td>\n",
       "      <td>17.728542</td>\n",
       "      <td>1.133540</td>\n",
       "      <td>16.00</td>\n",
       "      <td>17.00</td>\n",
       "      <td>18.00</td>\n",
       "      <td>19.00</td>\n",
       "      <td>21.00</td>\n",
       "    </tr>\n",
       "  </tbody>\n",
       "</table>\n",
       "</div>"
      ],
      "text/plain": [
       "                          count        mean         std    min     25%  \\\n",
       "passenger_count        132013.0    1.419943    0.905025   1.00    1.00   \n",
       "trip_distance          132013.0    3.178477    4.220052   0.01    1.04   \n",
       "PULocationID           132013.0  167.159704   61.984597   4.00  132.00   \n",
       "DOLocationID           132013.0  166.599865   68.819510   1.00  116.00   \n",
       "fare_amount            132013.0   18.155067   15.984805   3.00    9.30   \n",
       "extra                  132013.0    2.753877    1.076575   0.00    2.50   \n",
       "mta_tax                132013.0    0.500000    0.000000   0.50    0.50   \n",
       "tip_amount             132013.0    3.578966    3.749207   0.00    1.00   \n",
       "tolls_amount           132013.0    0.498085    1.898453   0.00    0.00   \n",
       "improvement_surcharge  132013.0    1.000000    0.000000   1.00    1.00   \n",
       "total_amount           132013.0   28.992484   20.634856   5.90   17.36   \n",
       "congestion_surcharge   132013.0    2.368877    0.557331   0.00    2.50   \n",
       "Airport_fee            132013.0    0.137613    0.471049   0.00    0.00   \n",
       "trip_duration_secs     132013.0  930.973601  751.976508  61.00  447.00   \n",
       "pickup_hour            132013.0   17.477286    1.084292  16.00   17.00   \n",
       "drop_hour              132013.0   17.728542    1.133540  16.00   17.00   \n",
       "\n",
       "                          50%      75%      max  \n",
       "passenger_count          1.00     1.00     6.00  \n",
       "trip_distance            1.70     2.98    39.63  \n",
       "PULocationID           162.00   234.00   263.00  \n",
       "DOLocationID           163.00   234.00   263.00  \n",
       "fare_amount             12.80    19.80   175.00  \n",
       "extra                    2.50     2.50     7.50  \n",
       "mta_tax                  0.50     0.50     0.50  \n",
       "tip_amount               3.02     4.55   158.00  \n",
       "tolls_amount             0.00     0.00    41.71  \n",
       "improvement_surcharge    1.00     1.00     1.00  \n",
       "total_amount            22.20    29.88   214.17  \n",
       "congestion_surcharge     2.50     2.50     2.50  \n",
       "Airport_fee              0.00     0.00     1.75  \n",
       "trip_duration_secs     718.00  1138.00  9213.00  \n",
       "pickup_hour             17.00    18.00    19.00  \n",
       "drop_hour               18.00    19.00    21.00  "
      ]
     },
     "execution_count": 98,
     "metadata": {},
     "output_type": "execute_result"
    }
   ],
   "source": [
    "# Statistical description for numerical columns\n",
    "taxidf1.describe().T"
   ]
  },
  {
   "cell_type": "code",
   "execution_count": null,
   "id": "87fec5be",
   "metadata": {},
   "outputs": [],
   "source": [
    "# from the summary, we can infer that the mta_tax, improvement_surcharge columns has 0 variance. \n",
    "# Hence, it will provide no value to the model. \n",
    "# those can be removed before model building."
   ]
  },
  {
   "cell_type": "code",
   "execution_count": 99,
   "id": "8ece2942",
   "metadata": {
    "scrolled": false
   },
   "outputs": [
    {
     "data": {
      "text/html": [
       "<div>\n",
       "<style scoped>\n",
       "    .dataframe tbody tr th:only-of-type {\n",
       "        vertical-align: middle;\n",
       "    }\n",
       "\n",
       "    .dataframe tbody tr th {\n",
       "        vertical-align: top;\n",
       "    }\n",
       "\n",
       "    .dataframe thead th {\n",
       "        text-align: right;\n",
       "    }\n",
       "</style>\n",
       "<table border=\"1\" class=\"dataframe\">\n",
       "  <thead>\n",
       "    <tr style=\"text-align: right;\">\n",
       "      <th></th>\n",
       "      <th>count</th>\n",
       "      <th>unique</th>\n",
       "      <th>top</th>\n",
       "      <th>freq</th>\n",
       "    </tr>\n",
       "  </thead>\n",
       "  <tbody>\n",
       "    <tr>\n",
       "      <th>VendorID</th>\n",
       "      <td>132013</td>\n",
       "      <td>2</td>\n",
       "      <td>2</td>\n",
       "      <td>97903</td>\n",
       "    </tr>\n",
       "    <tr>\n",
       "      <th>RatecodeID</th>\n",
       "      <td>132013.0</td>\n",
       "      <td>5.0</td>\n",
       "      <td>1.0</td>\n",
       "      <td>126029.0</td>\n",
       "    </tr>\n",
       "    <tr>\n",
       "      <th>store_and_fwd_flag</th>\n",
       "      <td>132013</td>\n",
       "      <td>2</td>\n",
       "      <td>N</td>\n",
       "      <td>131381</td>\n",
       "    </tr>\n",
       "    <tr>\n",
       "      <th>payment_type</th>\n",
       "      <td>132013</td>\n",
       "      <td>4</td>\n",
       "      <td>1</td>\n",
       "      <td>107711</td>\n",
       "    </tr>\n",
       "    <tr>\n",
       "      <th>PU_Borough</th>\n",
       "      <td>132013</td>\n",
       "      <td>4</td>\n",
       "      <td>Manhattan</td>\n",
       "      <td>120246</td>\n",
       "    </tr>\n",
       "    <tr>\n",
       "      <th>PU_Zone</th>\n",
       "      <td>132013</td>\n",
       "      <td>144</td>\n",
       "      <td>Midtown Center</td>\n",
       "      <td>8625</td>\n",
       "    </tr>\n",
       "    <tr>\n",
       "      <th>PU_service_zone</th>\n",
       "      <td>132013</td>\n",
       "      <td>3</td>\n",
       "      <td>Yellow Zone</td>\n",
       "      <td>117984</td>\n",
       "    </tr>\n",
       "    <tr>\n",
       "      <th>DO_Borough</th>\n",
       "      <td>132013</td>\n",
       "      <td>6</td>\n",
       "      <td>Manhattan</td>\n",
       "      <td>122721</td>\n",
       "    </tr>\n",
       "    <tr>\n",
       "      <th>DO_Zone</th>\n",
       "      <td>132013</td>\n",
       "      <td>246</td>\n",
       "      <td>Upper East Side North</td>\n",
       "      <td>6812</td>\n",
       "    </tr>\n",
       "    <tr>\n",
       "      <th>DO_service_zone</th>\n",
       "      <td>132013</td>\n",
       "      <td>4</td>\n",
       "      <td>Yellow Zone</td>\n",
       "      <td>117388</td>\n",
       "    </tr>\n",
       "    <tr>\n",
       "      <th>pickup_date</th>\n",
       "      <td>132013</td>\n",
       "      <td>5</td>\n",
       "      <td>2023-04-05</td>\n",
       "      <td>28843</td>\n",
       "    </tr>\n",
       "    <tr>\n",
       "      <th>dropoff_date</th>\n",
       "      <td>132013</td>\n",
       "      <td>5</td>\n",
       "      <td>2023-04-05</td>\n",
       "      <td>28843</td>\n",
       "    </tr>\n",
       "    <tr>\n",
       "      <th>pickup_day</th>\n",
       "      <td>132013</td>\n",
       "      <td>5</td>\n",
       "      <td>Wednesday</td>\n",
       "      <td>28843</td>\n",
       "    </tr>\n",
       "    <tr>\n",
       "      <th>dropoff_day</th>\n",
       "      <td>132013</td>\n",
       "      <td>5</td>\n",
       "      <td>Wednesday</td>\n",
       "      <td>28843</td>\n",
       "    </tr>\n",
       "  </tbody>\n",
       "</table>\n",
       "</div>"
      ],
      "text/plain": [
       "                       count unique                    top      freq\n",
       "VendorID              132013      2                      2     97903\n",
       "RatecodeID          132013.0    5.0                    1.0  126029.0\n",
       "store_and_fwd_flag    132013      2                      N    131381\n",
       "payment_type          132013      4                      1    107711\n",
       "PU_Borough            132013      4              Manhattan    120246\n",
       "PU_Zone               132013    144         Midtown Center      8625\n",
       "PU_service_zone       132013      3            Yellow Zone    117984\n",
       "DO_Borough            132013      6              Manhattan    122721\n",
       "DO_Zone               132013    246  Upper East Side North      6812\n",
       "DO_service_zone       132013      4            Yellow Zone    117388\n",
       "pickup_date           132013      5             2023-04-05     28843\n",
       "dropoff_date          132013      5             2023-04-05     28843\n",
       "pickup_day            132013      5              Wednesday     28843\n",
       "dropoff_day           132013      5              Wednesday     28843"
      ]
     },
     "execution_count": 99,
     "metadata": {},
     "output_type": "execute_result"
    }
   ],
   "source": [
    "# Statistical description for categorical columns\n",
    "taxidf1.describe(include=object).T"
   ]
  },
  {
   "cell_type": "code",
   "execution_count": 100,
   "id": "c5d0f9dd",
   "metadata": {},
   "outputs": [
    {
     "data": {
      "text/plain": [
       "(132013, 32)"
      ]
     },
     "execution_count": 100,
     "metadata": {},
     "output_type": "execute_result"
    }
   ],
   "source": [
    "taxidf1.shape"
   ]
  },
  {
   "cell_type": "markdown",
   "id": "0fbfa2bb",
   "metadata": {},
   "source": [
    "<b>Exploratory Data Analysis</b>"
   ]
  },
  {
   "cell_type": "code",
   "execution_count": null,
   "id": "d77ab783",
   "metadata": {},
   "outputs": [],
   "source": []
  },
  {
   "cell_type": "code",
   "execution_count": null,
   "id": "61b35f8b",
   "metadata": {},
   "outputs": [],
   "source": []
  },
  {
   "cell_type": "code",
   "execution_count": null,
   "id": "4df4b57e",
   "metadata": {},
   "outputs": [],
   "source": []
  },
  {
   "cell_type": "code",
   "execution_count": null,
   "id": "ca4dbe08",
   "metadata": {},
   "outputs": [],
   "source": []
  },
  {
   "cell_type": "code",
   "execution_count": null,
   "id": "f85636c5",
   "metadata": {},
   "outputs": [],
   "source": []
  }
 ],
 "metadata": {
  "kernelspec": {
   "display_name": "Python 3 (ipykernel)",
   "language": "python",
   "name": "python3"
  },
  "language_info": {
   "codemirror_mode": {
    "name": "ipython",
    "version": 3
   },
   "file_extension": ".py",
   "mimetype": "text/x-python",
   "name": "python",
   "nbconvert_exporter": "python",
   "pygments_lexer": "ipython3",
   "version": "3.9.13"
  }
 },
 "nbformat": 4,
 "nbformat_minor": 5
}
